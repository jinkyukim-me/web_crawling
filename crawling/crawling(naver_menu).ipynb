{
 "cells": [
  {
   "cell_type": "markdown",
   "metadata": {},
   "source": [
    "# ul뽑기\n",
    "\n",
    "      2000줄이 넘는 텍스트 뭉치에서 메뉴를 감싸고 있는 부분인 ul만 뽑아 냅니다."
   ]
  },
  {
   "cell_type": "code",
   "execution_count": 1,
   "metadata": {
    "ExecuteTime": {
     "end_time": "2019-10-16T12:58:02.427247Z",
     "start_time": "2019-10-16T12:58:01.399027Z"
    }
   },
   "outputs": [
    {
     "name": "stdout",
     "output_type": "stream",
     "text": [
      "<ul class=\"an_l\">\n",
      "<li class=\"an_item\">\n",
      "<a class=\"an_a mn_mail\" data-clk=\"svc.mail\" href=\"https://mail.naver.com/\">\n",
      "<span class=\"an_icon\"></span><span class=\"an_txt\">메일</span>\n",
      "</a>\n",
      "</li>\n",
      "<li class=\"an_item\">\n",
      "<a class=\"an_a mn_cafe\" data-clk=\"svc.cafe\" href=\"https://section.cafe.naver.com/\">\n",
      "<span class=\"an_icon\"></span><span class=\"an_txt\">카페</span>\n",
      "</a>\n",
      "</li>\n",
      "<li class=\"an_item\">\n",
      "<a class=\"an_a mn_blog\" data-clk=\"svc.blog\" href=\"https://section.blog.naver.com/\">\n",
      "<span class=\"an_icon\"></span><span class=\"an_txt\">블로그</span>\n",
      "</a>\n",
      "</li>\n",
      "<li class=\"an_item\">\n",
      "<a class=\"an_a mn_kin\" data-clk=\"svc.kin\" href=\"https://kin.naver.com/\">\n",
      "<span class=\"an_icon\"></span><span class=\"an_txt\">지식인</span>\n",
      "</a>\n",
      "</li>\n",
      "<li class=\"an_item\">\n",
      "<a class=\"an_a mn_shopping\" data-clk=\"svc.shopping\" href=\"https://shopping.naver.com/\">\n",
      "<span class=\"an_icon\"></span><span class=\"an_txt\">쇼핑</span>\n",
      "</a>\n",
      "</li>\n",
      "<li class=\"an_item\">\n",
      "<a class=\"an_a mn_checkout\" data-clk=\"svc.pay\" href=\"https://order.pay.naver.com/home\">\n",
      "<span class=\"an_icon\"></span><span class=\"an_txt\">네이버페이</span>\n",
      "</a>\n",
      "</li>\n",
      "<li class=\"an_item\">\n",
      "<a class=\"an_a mn_tvcast\" data-clk=\"svc.tvcast\" href=\"https://tv.naver.com/\">\n",
      "<span class=\"an_icon\"></span><span class=\"an_txt\">네이버TV</span>\n",
      "</a>\n",
      "</li>\n",
      "</ul>\n"
     ]
    }
   ],
   "source": [
    "import urllib.request\n",
    "import bs4\n",
    "\n",
    "url = \"https://www.naver.com/\"\n",
    "html = urllib.request.urlopen(url)\n",
    "\n",
    "bs_obj = bs4.BeautifulSoup(html, \"html.parser\")\n",
    "\n",
    "ul = bs_obj.find(\"ul\", {\"class\":\"an_l\"})\n",
    "print(ul)"
   ]
  },
  {
   "cell_type": "markdown",
   "metadata": {},
   "source": [
    "# li 뽑기\n",
    "    ul에서 각각 item에 해당하는 li를 뽑아봅니다. li는 list item을 줄여서 표시해 놓은 것입니다."
   ]
  },
  {
   "cell_type": "code",
   "execution_count": 2,
   "metadata": {
    "ExecuteTime": {
     "end_time": "2019-10-16T12:58:12.426221Z",
     "start_time": "2019-10-16T12:58:12.209800Z"
    }
   },
   "outputs": [
    {
     "name": "stdout",
     "output_type": "stream",
     "text": [
      "\n",
      "\n",
      "<li class=\"an_item\">\n",
      "<a class=\"an_a mn_mail\" data-clk=\"svc.mail\" href=\"https://mail.naver.com/\">\n",
      "<span class=\"an_icon\"></span><span class=\"an_txt\">메일</span>\n",
      "</a>\n",
      "</li>\n",
      "\n",
      "\n",
      "<li class=\"an_item\">\n",
      "<a class=\"an_a mn_cafe\" data-clk=\"svc.cafe\" href=\"https://section.cafe.naver.com/\">\n",
      "<span class=\"an_icon\"></span><span class=\"an_txt\">카페</span>\n",
      "</a>\n",
      "</li>\n",
      "\n",
      "\n",
      "<li class=\"an_item\">\n",
      "<a class=\"an_a mn_blog\" data-clk=\"svc.blog\" href=\"https://section.blog.naver.com/\">\n",
      "<span class=\"an_icon\"></span><span class=\"an_txt\">블로그</span>\n",
      "</a>\n",
      "</li>\n",
      "\n",
      "\n",
      "<li class=\"an_item\">\n",
      "<a class=\"an_a mn_kin\" data-clk=\"svc.kin\" href=\"https://kin.naver.com/\">\n",
      "<span class=\"an_icon\"></span><span class=\"an_txt\">지식인</span>\n",
      "</a>\n",
      "</li>\n",
      "\n",
      "\n",
      "<li class=\"an_item\">\n",
      "<a class=\"an_a mn_shopping\" data-clk=\"svc.shopping\" href=\"https://shopping.naver.com/\">\n",
      "<span class=\"an_icon\"></span><span class=\"an_txt\">쇼핑</span>\n",
      "</a>\n",
      "</li>\n",
      "\n",
      "\n",
      "<li class=\"an_item\">\n",
      "<a class=\"an_a mn_checkout\" data-clk=\"svc.pay\" href=\"https://order.pay.naver.com/home\">\n",
      "<span class=\"an_icon\"></span><span class=\"an_txt\">네이버페이</span>\n",
      "</a>\n",
      "</li>\n",
      "\n",
      "\n",
      "<li class=\"an_item\">\n",
      "<a class=\"an_a mn_tvcast\" data-clk=\"svc.tvcast\" href=\"https://tv.naver.com/\">\n",
      "<span class=\"an_icon\"></span><span class=\"an_txt\">네이버TV</span>\n",
      "</a>\n",
      "</li>\n",
      "\n",
      "\n"
     ]
    }
   ],
   "source": [
    "import urllib.request\n",
    "import bs4\n",
    "\n",
    "url = \"https://www.naver.com/\"\n",
    "html = urllib.request.urlopen(url)\n",
    "\n",
    "bs_obj = bs4.BeautifulSoup(html, \"html.parser\")\n",
    "\n",
    "ul = bs_obj.find(\"ul\", {\"class\":\"an_l\"})\n",
    "\n",
    "for li in ul:\n",
    "    print(li)"
   ]
  },
  {
   "cell_type": "markdown",
   "metadata": {},
   "source": [
    "# .findAll()로 li만 골라내기\n",
    "    .findAll()을 사용해봅니다. li가 []리스트 안으로 들어옵니다."
   ]
  },
  {
   "cell_type": "code",
   "execution_count": 3,
   "metadata": {
    "ExecuteTime": {
     "end_time": "2019-10-16T12:58:24.857876Z",
     "start_time": "2019-10-16T12:58:24.614495Z"
    }
   },
   "outputs": [
    {
     "name": "stdout",
     "output_type": "stream",
     "text": [
      "[<li class=\"an_item\">\n",
      "<a class=\"an_a mn_mail\" data-clk=\"svc.mail\" href=\"https://mail.naver.com/\">\n",
      "<span class=\"an_icon\"></span><span class=\"an_txt\">메일</span>\n",
      "</a>\n",
      "</li>, <li class=\"an_item\">\n",
      "<a class=\"an_a mn_cafe\" data-clk=\"svc.cafe\" href=\"https://section.cafe.naver.com/\">\n",
      "<span class=\"an_icon\"></span><span class=\"an_txt\">카페</span>\n",
      "</a>\n",
      "</li>, <li class=\"an_item\">\n",
      "<a class=\"an_a mn_blog\" data-clk=\"svc.blog\" href=\"https://section.blog.naver.com/\">\n",
      "<span class=\"an_icon\"></span><span class=\"an_txt\">블로그</span>\n",
      "</a>\n",
      "</li>, <li class=\"an_item\">\n",
      "<a class=\"an_a mn_kin\" data-clk=\"svc.kin\" href=\"https://kin.naver.com/\">\n",
      "<span class=\"an_icon\"></span><span class=\"an_txt\">지식인</span>\n",
      "</a>\n",
      "</li>, <li class=\"an_item\">\n",
      "<a class=\"an_a mn_shopping\" data-clk=\"svc.shopping\" href=\"https://shopping.naver.com/\">\n",
      "<span class=\"an_icon\"></span><span class=\"an_txt\">쇼핑</span>\n",
      "</a>\n",
      "</li>, <li class=\"an_item\">\n",
      "<a class=\"an_a mn_checkout\" data-clk=\"svc.pay\" href=\"https://order.pay.naver.com/home\">\n",
      "<span class=\"an_icon\"></span><span class=\"an_txt\">네이버페이</span>\n",
      "</a>\n",
      "</li>, <li class=\"an_item\">\n",
      "<a class=\"an_a mn_tvcast\" data-clk=\"svc.tvcast\" href=\"https://tv.naver.com/\">\n",
      "<span class=\"an_icon\"></span><span class=\"an_txt\">네이버TV</span>\n",
      "</a>\n",
      "</li>]\n"
     ]
    }
   ],
   "source": [
    "import urllib.request\n",
    "import bs4\n",
    "\n",
    "url = \"https://www.naver.com/\"\n",
    "html = urllib.request.urlopen(url)\n",
    "\n",
    "bs_obj = bs4.BeautifulSoup(html, \"html.parser\")\n",
    "\n",
    "ul = bs_obj.find(\"ul\", {\"class\":\"an_l\"})\n",
    "\n",
    "lis = ul.findAll(\"li\")\n",
    "\n",
    "print(lis)"
   ]
  },
  {
   "cell_type": "markdown",
   "metadata": {},
   "source": [
    "# li에 들어있는 a뽑기\n",
    "    한단계 더 접근 해봅니다."
   ]
  },
  {
   "cell_type": "code",
   "execution_count": 4,
   "metadata": {
    "ExecuteTime": {
     "end_time": "2019-10-16T12:58:30.502792Z",
     "start_time": "2019-10-16T12:58:30.248437Z"
    }
   },
   "outputs": [
    {
     "name": "stdout",
     "output_type": "stream",
     "text": [
      "<a class=\"an_a mn_mail\" data-clk=\"svc.mail\" href=\"https://mail.naver.com/\">\n",
      "<span class=\"an_icon\"></span><span class=\"an_txt\">메일</span>\n",
      "</a>\n",
      "<a class=\"an_a mn_cafe\" data-clk=\"svc.cafe\" href=\"https://section.cafe.naver.com/\">\n",
      "<span class=\"an_icon\"></span><span class=\"an_txt\">카페</span>\n",
      "</a>\n",
      "<a class=\"an_a mn_blog\" data-clk=\"svc.blog\" href=\"https://section.blog.naver.com/\">\n",
      "<span class=\"an_icon\"></span><span class=\"an_txt\">블로그</span>\n",
      "</a>\n",
      "<a class=\"an_a mn_kin\" data-clk=\"svc.kin\" href=\"https://kin.naver.com/\">\n",
      "<span class=\"an_icon\"></span><span class=\"an_txt\">지식인</span>\n",
      "</a>\n",
      "<a class=\"an_a mn_shopping\" data-clk=\"svc.shopping\" href=\"https://shopping.naver.com/\">\n",
      "<span class=\"an_icon\"></span><span class=\"an_txt\">쇼핑</span>\n",
      "</a>\n",
      "<a class=\"an_a mn_checkout\" data-clk=\"svc.pay\" href=\"https://order.pay.naver.com/home\">\n",
      "<span class=\"an_icon\"></span><span class=\"an_txt\">네이버페이</span>\n",
      "</a>\n",
      "<a class=\"an_a mn_tvcast\" data-clk=\"svc.tvcast\" href=\"https://tv.naver.com/\">\n",
      "<span class=\"an_icon\"></span><span class=\"an_txt\">네이버TV</span>\n",
      "</a>\n"
     ]
    }
   ],
   "source": [
    "import urllib.request\n",
    "import bs4\n",
    "\n",
    "url = \"https://www.naver.com/\"\n",
    "html = urllib.request.urlopen(url)\n",
    "\n",
    "bs_obj = bs4.BeautifulSoup(html, \"html.parser\")\n",
    "\n",
    "ul = bs_obj.find(\"ul\", {\"class\":\"an_l\"})\n",
    "\n",
    "lis = ul.findAll(\"li\")\n",
    "\n",
    "for li in lis:\n",
    "    a_tag = li.find(\"a\")\n",
    "    print(a_tag)"
   ]
  },
  {
   "cell_type": "markdown",
   "metadata": {},
   "source": [
    "# a안에 span중 class가 an_txt인 것 뽑아내기\n",
    "    한단계 더 들어가지만 같은 level에 태그가 2개 이상인 경우 class를 사용합니다."
   ]
  },
  {
   "cell_type": "code",
   "execution_count": 5,
   "metadata": {
    "ExecuteTime": {
     "end_time": "2019-10-16T12:58:36.374065Z",
     "start_time": "2019-10-16T12:58:35.781648Z"
    }
   },
   "outputs": [
    {
     "name": "stdout",
     "output_type": "stream",
     "text": [
      "<span class=\"an_txt\">메일</span>\n",
      "<span class=\"an_txt\">카페</span>\n",
      "<span class=\"an_txt\">블로그</span>\n",
      "<span class=\"an_txt\">지식인</span>\n",
      "<span class=\"an_txt\">쇼핑</span>\n",
      "<span class=\"an_txt\">네이버페이</span>\n",
      "<span class=\"an_txt\">네이버TV</span>\n"
     ]
    }
   ],
   "source": [
    "import urllib.request\n",
    "import bs4\n",
    "\n",
    "url = \"https://www.naver.com/\"\n",
    "html = urllib.request.urlopen(url)\n",
    "\n",
    "bs_obj = bs4.BeautifulSoup(html, \"html.parser\")\n",
    "\n",
    "ul = bs_obj.find(\"ul\", {\"class\":\"an_l\"})\n",
    "\n",
    "lis = ul.findAll(\"li\")\n",
    "\n",
    "for li in lis:\n",
    "    a_tag = li.find(\"a\")\n",
    "    span = a_tag.find(\"span\", {\"class\":\"an_txt\"})\n",
    "    print(span)"
   ]
  },
  {
   "cell_type": "markdown",
   "metadata": {},
   "source": [
    "# 글자만 뽑아내기"
   ]
  },
  {
   "cell_type": "code",
   "execution_count": 6,
   "metadata": {
    "ExecuteTime": {
     "end_time": "2019-10-16T12:58:43.661755Z",
     "start_time": "2019-10-16T12:58:43.072330Z"
    }
   },
   "outputs": [
    {
     "name": "stdout",
     "output_type": "stream",
     "text": [
      "메일\n",
      "카페\n",
      "블로그\n",
      "지식인\n",
      "쇼핑\n",
      "네이버페이\n",
      "네이버TV\n"
     ]
    }
   ],
   "source": [
    "import urllib.request\n",
    "import bs4\n",
    "\n",
    "url = \"https://www.naver.com/\"\n",
    "html = urllib.request.urlopen(url)\n",
    "\n",
    "bs_obj = bs4.BeautifulSoup(html, \"html.parser\")\n",
    "\n",
    "ul = bs_obj.find(\"ul\", {\"class\":\"an_l\"})\n",
    "\n",
    "lis = ul.findAll(\"li\")\n",
    "\n",
    "for li in lis:\n",
    "    a_tag = li.find(\"a\")\n",
    "    span = a_tag.find(\"span\", {\"class\":\"an_txt\"})\n",
    "    print(span.text)"
   ]
  },
  {
   "cell_type": "code",
   "execution_count": null,
   "metadata": {},
   "outputs": [],
   "source": []
  }
 ],
 "metadata": {
  "hide_input": false,
  "kernelspec": {
   "display_name": "Python 3",
   "language": "python",
   "name": "python3"
  },
  "language_info": {
   "codemirror_mode": {
    "name": "ipython",
    "version": 3
   },
   "file_extension": ".py",
   "mimetype": "text/x-python",
   "name": "python",
   "nbconvert_exporter": "python",
   "pygments_lexer": "ipython3",
   "version": "3.6.9"
  },
  "toc": {
   "base_numbering": 1,
   "nav_menu": {},
   "number_sections": true,
   "sideBar": true,
   "skip_h1_title": false,
   "title_cell": "Table of Contents",
   "title_sidebar": "Contents",
   "toc_cell": false,
   "toc_position": {},
   "toc_section_display": true,
   "toc_window_display": false
  },
  "varInspector": {
   "cols": {
    "lenName": 16,
    "lenType": 16,
    "lenVar": 40
   },
   "kernels_config": {
    "python": {
     "delete_cmd_postfix": "",
     "delete_cmd_prefix": "del ",
     "library": "var_list.py",
     "varRefreshCmd": "print(var_dic_list())"
    },
    "r": {
     "delete_cmd_postfix": ") ",
     "delete_cmd_prefix": "rm(",
     "library": "var_list.r",
     "varRefreshCmd": "cat(var_dic_list()) "
    }
   },
   "types_to_exclude": [
    "module",
    "function",
    "builtin_function_or_method",
    "instance",
    "_Feature"
   ],
   "window_display": false
  }
 },
 "nbformat": 4,
 "nbformat_minor": 2
}
