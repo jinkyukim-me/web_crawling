{
 "cells": [
  {
   "cell_type": "markdown",
   "metadata": {},
   "source": [
    "# JSON\n",
    "\n",
    "* javascript object notation(JSON)\n",
    "* 자바스크립트 오브젝트 표현법\n",
    "* tree구조\n",
    "* key, value\n",
    "\n",
    "제이선 JSON(Javasript Object Notation)이란 자바스크립트에서 데이터 객체를 표현하는 방법을 말합니다. 제이선, 제이썬, 제이슨 등으로 읽습니다.\n",
    "\n",
    "자바스크립트에서 사용하는 데이터를 표현 할 때 사용하는 방법이었는데 이게 생각보다 간결하고 길이도 다른 것에 비해서(xml 등) 짧습니다. 다른 표현 방법에 비해 비교적 사람이 알아보기 쉬워서 자바스크립트 말고 다른 곳에서도 많이 쓰게 되었습니다. 물론 비교적 쉽다는 것이지 처음부터 쉽다는 것은 아닙니다."
   ]
  },
  {
   "cell_type": "code",
   "execution_count": 1,
   "metadata": {
    "ExecuteTime": {
     "end_time": "2019-10-16T13:04:03.070731Z",
     "start_time": "2019-10-16T13:04:03.066738Z"
    }
   },
   "outputs": [
    {
     "name": "stdout",
     "output_type": "stream",
     "text": [
      "{'name': 'kyeongrok'}\n"
     ]
    }
   ],
   "source": [
    "json_obj = {\"name\":\"kyeongrok\"}\n",
    "\n",
    "print(json_obj)"
   ]
  },
  {
   "cell_type": "code",
   "execution_count": 2,
   "metadata": {
    "ExecuteTime": {
     "end_time": "2019-10-16T13:04:12.981220Z",
     "start_time": "2019-10-16T13:04:12.974228Z"
    }
   },
   "outputs": [
    {
     "name": "stdout",
     "output_type": "stream",
     "text": [
      "{'name': 'kyeongrok', 'age': '32'}\n"
     ]
    }
   ],
   "source": [
    "json_obj = {\"name\":\"kyeongrok\", \"age\":\"32\"}\n",
    "\n",
    "print(json_obj)"
   ]
  },
  {
   "cell_type": "code",
   "execution_count": 3,
   "metadata": {
    "ExecuteTime": {
     "end_time": "2019-10-16T13:04:21.884447Z",
     "start_time": "2019-10-16T13:04:21.879425Z"
    }
   },
   "outputs": [
    {
     "name": "stdout",
     "output_type": "stream",
     "text": [
      "{'name': 'kyeongrok', 'age': '32', 'where': '역삼동', 'phone_number': '010-3588-6265'}\n"
     ]
    }
   ],
   "source": [
    "json_obj = {\"name\":\"kyeongrok\",\n",
    "            \"age\":\"32\",\n",
    "            \"where\":\"역삼동\",\n",
    "            \"phone_number\":\"010-3588-6265\"\n",
    "            }\n",
    "\n",
    "print(json_obj)"
   ]
  },
  {
   "cell_type": "code",
   "execution_count": 4,
   "metadata": {
    "ExecuteTime": {
     "end_time": "2019-10-16T13:04:30.176978Z",
     "start_time": "2019-10-16T13:04:30.170994Z"
    }
   },
   "outputs": [
    {
     "name": "stdout",
     "output_type": "stream",
     "text": [
      "[{'name': 'doyeon', 'age': '32'}]\n"
     ]
    }
   ],
   "source": [
    "json_obj = {\"name\":\"kyeongrok\",\n",
    "            \"age\":\"32\",\n",
    "            \"where\":\"역삼동\",\n",
    "            \"phone_number\":\"010-3588-6265\",\n",
    "            \"friends\":[{\"name\":\"doyeon\", \"age\":\"32\"}]\n",
    "            }\n",
    "\n",
    "print(json_obj['friends'])"
   ]
  },
  {
   "cell_type": "code",
   "execution_count": 6,
   "metadata": {
    "ExecuteTime": {
     "end_time": "2019-10-16T13:05:40.050365Z",
     "start_time": "2019-10-16T13:05:40.044355Z"
    }
   },
   "outputs": [
    {
     "name": "stdout",
     "output_type": "stream",
     "text": [
      "[{'name': 'doyeon', 'age': '32'}, {'name': 'kuri', 'age': '24'}]\n",
      "\n",
      "doyeon\n",
      "kuri\n"
     ]
    }
   ],
   "source": [
    "json_obj = {\"name\":\"kyeongrok\",\n",
    "            \"age\":\"32\",\n",
    "            \"where\":\"역삼동\",\n",
    "            \"phone_number\":\"010-3588-6265\",\n",
    "            \"friends\":[\n",
    "                {\"name\":\"doyeon\", \"age\":\"32\"},\n",
    "                {\"name\":\"kuri\", \"age\":\"24\"}\n",
    "            ]\n",
    "            }\n",
    "\n",
    "friends = json_obj['friends']\n",
    "print(friends)\n",
    "print()\n",
    "for friend in friends:\n",
    "    print(friend['name'])"
   ]
  },
  {
   "cell_type": "markdown",
   "metadata": {},
   "source": [
    "# json 편하게 보는 site\n",
    "\n",
    "* json tree\n",
    "* http://jsonviewer.stack.hu/"
   ]
  },
  {
   "cell_type": "markdown",
   "metadata": {},
   "source": [
    "# JSON예제"
   ]
  },
  {
   "cell_type": "code",
   "execution_count": 7,
   "metadata": {
    "ExecuteTime": {
     "end_time": "2019-10-16T13:07:28.754976Z",
     "start_time": "2019-10-16T13:07:28.742978Z"
    }
   },
   "outputs": [
    {
     "data": {
      "text/plain": [
       "{'list': [{'name': 'kyeongrok', 'age': '32'},\n",
       "  {'name': 'bomi', 'age': '25'},\n",
       "  {'name': 'cl', 'age': '27'}]}"
      ]
     },
     "execution_count": 7,
     "metadata": {},
     "output_type": "execute_result"
    }
   ],
   "source": [
    "{\"list\":[\n",
    "        {\"name\":\"kyeongrok\", \"age\":\"32\"},\n",
    "        {\"name\":\"bomi\", \"age\":\"25\"},\n",
    "        {\"name\":\"cl\", \"age\":\"27\"}\n",
    "      ]\n",
    "}"
   ]
  },
  {
   "cell_type": "markdown",
   "metadata": {},
   "source": [
    "보통은 이렇게 생겼습니다.\n",
    "\n",
    "JSON에서 맨 뒤에 N은 노테이션(Notation)입니다. 한글로 번역하면 '표기법'입니다. 어떤 것을 표현하는 방법입니다. 뒤에서 두번째 O는 오브젝트(Object)로써 말 그대로 '어떤 것'인데 쉽게 말해서 '데이터'라고 생각하시면 됩니다.\n",
    "\n",
    "그러면 제이선(json)으로 사람을 한번 표현 해보도록 하겠습니다."
   ]
  },
  {
   "cell_type": "code",
   "execution_count": 8,
   "metadata": {
    "ExecuteTime": {
     "end_time": "2019-10-16T13:07:48.697399Z",
     "start_time": "2019-10-16T13:07:48.691415Z"
    }
   },
   "outputs": [
    {
     "data": {
      "text/plain": [
       "{'name': 'kyeongrok'}"
      ]
     },
     "execution_count": 8,
     "metadata": {},
     "output_type": "execute_result"
    }
   ],
   "source": [
    "{\"name\":\"kyeongrok\"}"
   ]
  },
  {
   "cell_type": "markdown",
   "metadata": {},
   "source": [
    "{중괄호로 시작해서 }중괄호로 끝나고 키key(\"name\"), 벨류value(\"kyeongrok\")로 되어 있는 것\n",
    "\n",
    "json으로 한명의 사람을 가장 간단하게 표현해 보았습니다."
   ]
  },
  {
   "cell_type": "markdown",
   "metadata": {},
   "source": [
    "# JSON에 여러가지 값 넣기"
   ]
  },
  {
   "cell_type": "code",
   "execution_count": 9,
   "metadata": {
    "ExecuteTime": {
     "end_time": "2019-10-16T13:08:11.065343Z",
     "start_time": "2019-10-16T13:08:11.059328Z"
    }
   },
   "outputs": [
    {
     "data": {
      "text/plain": [
       "{'name': 'kyeongrok', 'age': '32'}"
      ]
     },
     "execution_count": 9,
     "metadata": {},
     "output_type": "execute_result"
    }
   ],
   "source": [
    "{\"name\":\"kyeongrok\", \"age\":\"32\"}"
   ]
  },
  {
   "cell_type": "markdown",
   "metadata": {},
   "source": [
    "{}안에는 name(이름)과 age(나이) 두가지가 들어갔습니다. 구분을 할 때는 ,컴마로 구분을 합니다.\n",
    "\n",
    "{}는 한개(one)라는 의미에서 1과 같습니다."
   ]
  },
  {
   "cell_type": "code",
   "execution_count": 10,
   "metadata": {
    "ExecuteTime": {
     "end_time": "2019-10-16T13:08:25.952506Z",
     "start_time": "2019-10-16T13:08:25.946524Z"
    }
   },
   "outputs": [
    {
     "data": {
      "text/plain": [
       "[{'name': 'kyeongrok', 'age': '32'}]"
      ]
     },
     "execution_count": 10,
     "metadata": {},
     "output_type": "execute_result"
    }
   ],
   "source": [
    "[{\"name\":\"kyeongrok\", \"age\":\"32\"}]"
   ]
  },
  {
   "cell_type": "markdown",
   "metadata": {},
   "source": [
    "이것은 리스트 안에 1명의 사람(item)이 들어가 있는 형태 입니다."
   ]
  },
  {
   "cell_type": "code",
   "execution_count": 11,
   "metadata": {
    "ExecuteTime": {
     "end_time": "2019-10-16T13:08:39.851991Z",
     "start_time": "2019-10-16T13:08:39.847002Z"
    }
   },
   "outputs": [
    {
     "data": {
      "text/plain": [
       "[1]"
      ]
     },
     "execution_count": 11,
     "metadata": {},
     "output_type": "execute_result"
    }
   ],
   "source": [
    "[1]"
   ]
  },
  {
   "cell_type": "markdown",
   "metadata": {},
   "source": [
    "위와 구조가 같습니다. 1이라는 숫자(item)이 한개가 들어있는 형태 입니다."
   ]
  },
  {
   "cell_type": "markdown",
   "metadata": {},
   "source": [
    "# json여러가지 표현 방법"
   ]
  },
  {
   "cell_type": "code",
   "execution_count": 12,
   "metadata": {
    "ExecuteTime": {
     "end_time": "2019-10-16T13:09:02.425425Z",
     "start_time": "2019-10-16T13:09:02.419440Z"
    }
   },
   "outputs": [
    {
     "data": {
      "text/plain": [
       "[{'name': 'kyeongrok', 'age': 32}]"
      ]
     },
     "execution_count": 12,
     "metadata": {},
     "output_type": "execute_result"
    }
   ],
   "source": [
    "[{\"name\":\"kyeongrok\", \"age\":32}]"
   ]
  },
  {
   "cell_type": "code",
   "execution_count": 13,
   "metadata": {
    "ExecuteTime": {
     "end_time": "2019-10-16T13:09:06.270626Z",
     "start_time": "2019-10-16T13:09:06.265609Z"
    }
   },
   "outputs": [
    {
     "data": {
      "text/plain": [
       "[1]"
      ]
     },
     "execution_count": 13,
     "metadata": {},
     "output_type": "execute_result"
    }
   ],
   "source": [
    "[1]"
   ]
  },
  {
   "cell_type": "code",
   "execution_count": 14,
   "metadata": {
    "ExecuteTime": {
     "end_time": "2019-10-16T13:09:13.807449Z",
     "start_time": "2019-10-16T13:09:13.801501Z"
    }
   },
   "outputs": [
    {
     "data": {
      "text/plain": [
       "{}"
      ]
     },
     "execution_count": 14,
     "metadata": {},
     "output_type": "execute_result"
    }
   ],
   "source": [
    "{}"
   ]
  },
  {
   "cell_type": "code",
   "execution_count": 15,
   "metadata": {
    "ExecuteTime": {
     "end_time": "2019-10-16T13:09:17.822723Z",
     "start_time": "2019-10-16T13:09:17.818728Z"
    }
   },
   "outputs": [
    {
     "data": {
      "text/plain": [
       "1"
      ]
     },
     "execution_count": 15,
     "metadata": {},
     "output_type": "execute_result"
    }
   ],
   "source": [
    "1"
   ]
  },
  {
   "cell_type": "markdown",
   "metadata": {},
   "source": [
    "    [1, 2]는 []안에 몇개의 item(항목)이 들어 있을까요? 2개 \n",
    "    [{}, {}]는 []안에 몇개의 item(항목)이 들어 있을까요? 2개"
   ]
  },
  {
   "cell_type": "code",
   "execution_count": 27,
   "metadata": {
    "ExecuteTime": {
     "end_time": "2019-10-16T13:12:00.215348Z",
     "start_time": "2019-10-16T13:12:00.210362Z"
    }
   },
   "outputs": [
    {
     "data": {
      "text/plain": [
       "[1, 2]"
      ]
     },
     "execution_count": 27,
     "metadata": {},
     "output_type": "execute_result"
    }
   ],
   "source": [
    "# []안에 몇개의 item(항목)이 들어 있을까요? 2개\n",
    "[\n",
    "    1, 2\n",
    "]"
   ]
  },
  {
   "cell_type": "code",
   "execution_count": 26,
   "metadata": {
    "ExecuteTime": {
     "end_time": "2019-10-16T13:11:51.871650Z",
     "start_time": "2019-10-16T13:11:51.865665Z"
    }
   },
   "outputs": [
    {
     "data": {
      "text/plain": [
       "[{}, {}]"
      ]
     },
     "execution_count": 26,
     "metadata": {},
     "output_type": "execute_result"
    }
   ],
   "source": [
    "# []안에 몇개의 item(항목)이 들어 있을까요? 2개\n",
    "[\n",
    "    {}, {}\n",
    "]"
   ]
  },
  {
   "cell_type": "code",
   "execution_count": 25,
   "metadata": {
    "ExecuteTime": {
     "end_time": "2019-10-16T13:11:46.525938Z",
     "start_time": "2019-10-16T13:11:46.519954Z"
    }
   },
   "outputs": [
    {
     "data": {
      "text/plain": [
       "[{}, {}]"
      ]
     },
     "execution_count": 25,
     "metadata": {},
     "output_type": "execute_result"
    }
   ],
   "source": [
    "# []안에 몇개의 item(항목)이 들어 있을까요? 2개\n",
    "[\n",
    "    {},\n",
    "    {}\n",
    "]"
   ]
  },
  {
   "cell_type": "code",
   "execution_count": 24,
   "metadata": {
    "ExecuteTime": {
     "end_time": "2019-10-16T13:11:35.697030Z",
     "start_time": "2019-10-16T13:11:35.692051Z"
    }
   },
   "outputs": [
    {
     "data": {
      "text/plain": [
       "[{'name': 'kyeongrok', 'age': 32}]"
      ]
     },
     "execution_count": 24,
     "metadata": {},
     "output_type": "execute_result"
    }
   ],
   "source": [
    "# []안에 몇개의 item(항목)이 들어 있을까요? 1개 \n",
    "# {}안에 몇개의 item(항목)이 들어 있을까요? 2개\n",
    "[{\"name\":\"kyeongrok\", \"age\":32}]"
   ]
  },
  {
   "cell_type": "code",
   "execution_count": 22,
   "metadata": {
    "ExecuteTime": {
     "end_time": "2019-10-16T13:11:11.630015Z",
     "start_time": "2019-10-16T13:11:11.625028Z"
    }
   },
   "outputs": [
    {
     "data": {
      "text/plain": [
       "[{'name': 'kyeongrok', 'age': 32}]"
      ]
     },
     "execution_count": 22,
     "metadata": {},
     "output_type": "execute_result"
    }
   ],
   "source": [
    "# []안에 몇개의 item(항목)이 들어 있을까요? 1개\n",
    "[\n",
    "    {\"name\":\"kyeongrok\", \"age\":32}\n",
    "]"
   ]
  },
  {
   "cell_type": "code",
   "execution_count": 23,
   "metadata": {
    "ExecuteTime": {
     "end_time": "2019-10-16T13:11:12.224396Z",
     "start_time": "2019-10-16T13:11:12.218444Z"
    }
   },
   "outputs": [
    {
     "data": {
      "text/plain": [
       "[{'name': 'kyeongrok', 'age': 32}, {'name': 'anna', 'age': 34}]"
      ]
     },
     "execution_count": 23,
     "metadata": {},
     "output_type": "execute_result"
    }
   ],
   "source": [
    "# []안에 몇개의 item(항목)이 들어 있을까요? 2개\n",
    "[\n",
    "    {\"name\":\"kyeongrok\", \"age\":32},\n",
    "    {\"name\":\"anna\", \"age\":34}\n",
    "]"
   ]
  },
  {
   "cell_type": "markdown",
   "metadata": {},
   "source": [
    "# 표 형태의 데이터를 json으로 표현하기"
   ]
  },
  {
   "cell_type": "markdown",
   "metadata": {},
   "source": [
    "| name        | age       | math  |\n",
    "| ----------- |:--------:| -----:|\n",
    "| kyeongrok   | 32      | 90 |\n",
    "| bomi        | 25      | 85 |"
   ]
  },
  {
   "cell_type": "code",
   "execution_count": 28,
   "metadata": {
    "ExecuteTime": {
     "end_time": "2019-10-16T13:12:20.810364Z",
     "start_time": "2019-10-16T13:12:20.804377Z"
    }
   },
   "outputs": [
    {
     "data": {
      "text/plain": [
       "[{'name': 'kyeongrok', 'age': '32', 'math': '90'},\n",
       " {'name': 'bomi', 'age': '25', 'math': '85'}]"
      ]
     },
     "execution_count": 28,
     "metadata": {},
     "output_type": "execute_result"
    }
   ],
   "source": [
    "[\n",
    "  {\"name\":\"kyeongrok\", \"age\":\"32\", \"math\":\"90\"},\n",
    "  {\"name\":\"bomi\", \"age\":\"25\", \"math\":\"85\"}\n",
    "]"
   ]
  },
  {
   "cell_type": "code",
   "execution_count": null,
   "metadata": {},
   "outputs": [],
   "source": []
  }
 ],
 "metadata": {
  "hide_input": false,
  "kernelspec": {
   "display_name": "Python 3",
   "language": "python",
   "name": "python3"
  },
  "language_info": {
   "codemirror_mode": {
    "name": "ipython",
    "version": 3
   },
   "file_extension": ".py",
   "mimetype": "text/x-python",
   "name": "python",
   "nbconvert_exporter": "python",
   "pygments_lexer": "ipython3",
   "version": "3.6.9"
  },
  "toc": {
   "base_numbering": 1,
   "nav_menu": {},
   "number_sections": true,
   "sideBar": true,
   "skip_h1_title": false,
   "title_cell": "Table of Contents",
   "title_sidebar": "Contents",
   "toc_cell": false,
   "toc_position": {},
   "toc_section_display": true,
   "toc_window_display": false
  },
  "varInspector": {
   "cols": {
    "lenName": 16,
    "lenType": 16,
    "lenVar": 40
   },
   "kernels_config": {
    "python": {
     "delete_cmd_postfix": "",
     "delete_cmd_prefix": "del ",
     "library": "var_list.py",
     "varRefreshCmd": "print(var_dic_list())"
    },
    "r": {
     "delete_cmd_postfix": ") ",
     "delete_cmd_prefix": "rm(",
     "library": "var_list.r",
     "varRefreshCmd": "cat(var_dic_list()) "
    }
   },
   "types_to_exclude": [
    "module",
    "function",
    "builtin_function_or_method",
    "instance",
    "_Feature"
   ],
   "window_display": false
  }
 },
 "nbformat": 4,
 "nbformat_minor": 2
}
